{
 "cells": [
  {
   "cell_type": "markdown",
   "id": "fef90f3d-642f-4743-8307-c62a13705fdc",
   "metadata": {},
   "source": [
    "## 1: prime numbers"
   ]
  },
  {
   "cell_type": "code",
   "execution_count": 1,
   "id": "b609e8a1-399e-47c9-bb80-c9fab71d1fed",
   "metadata": {},
   "outputs": [],
   "source": [
    "def is_prime(n):\n",
    "    if n <= 1:\n",
    "        return False\n",
    "    for i in range(2, int(n ** 0.5) + 1):\n",
    "        if n % i == 0:\n",
    "            return False\n",
    "    return True"
   ]
  },
  {
   "cell_type": "code",
   "execution_count": 2,
   "id": "68275032-acb1-448f-82de-f22639c4fef9",
   "metadata": {},
   "outputs": [
    {
     "name": "stdout",
     "output_type": "stream",
     "text": [
      "1 is Not Prime\n",
      "2 is Prime\n",
      "3 is Prime\n",
      "4 is Not Prime\n",
      "5 is Prime\n",
      "10 is Not Prime\n",
      "17 is Prime\n",
      "18 is Not Prime\n",
      "19 is Prime\n",
      "23 is Prime\n"
     ]
    }
   ],
   "source": [
    "# Test with some examples\n",
    "numbers_to_check = [1, 2, 3, 4, 5, 10, 17, 18, 19, 23]\n",
    "for num in numbers_to_check:\n",
    "    result = \"Prime\" if is_prime(num) else \"Not Prime\"\n",
    "    print(f\"{num} is {result}\")"
   ]
  },
  {
   "cell_type": "markdown",
   "id": "de4f18d0-5507-42a8-ab66-d5c18b5359ba",
   "metadata": {},
   "source": [
    "## 2: Product of Random Numbers"
   ]
  },
  {
   "cell_type": "code",
   "execution_count": 3,
   "id": "1c717d53-8d8d-45f2-9573-02306b1045c3",
   "metadata": {},
   "outputs": [],
   "source": [
    "import random"
   ]
  },
  {
   "cell_type": "code",
   "execution_count": 4,
   "id": "3b5dc2d8-8cc2-44b6-91e5-94d360124eb4",
   "metadata": {},
   "outputs": [],
   "source": [
    "def random_product():\n",
    "    # Function to generate two random numbers and check user's product answer\n",
    "    a = random.randint(1, 10)\n",
    "    b = random.randint(1, 10)\n",
    "    correct_answer = a * b\n",
    "    print(f\"What is {a} * {b}?\")\n",
    "    user_answer = int(input(\"Your answer: \"))\n",
    "    if user_answer == correct_answer:\n",
    "        print(\"Correct!\")\n",
    "    else:\n",
    "        print(f\"Incorrect. The correct answer is {correct_answer}.\")"
   ]
  },
  {
   "cell_type": "code",
   "execution_count": 5,
   "id": "54f3b9ed-967c-48c5-84f6-07f336c777c9",
   "metadata": {},
   "outputs": [
    {
     "name": "stdout",
     "output_type": "stream",
     "text": [
      "Exercise 2: Product of Random Numbers\n",
      "What is 8 * 2?\n"
     ]
    },
    {
     "name": "stdin",
     "output_type": "stream",
     "text": [
      "Your answer:  16\n"
     ]
    },
    {
     "name": "stdout",
     "output_type": "stream",
     "text": [
      "Correct!\n",
      "\n"
     ]
    }
   ],
   "source": [
    "print(\"Exercise 2: Product of Random Numbers\")\n",
    "random_product()\n",
    "print()"
   ]
  },
  {
   "cell_type": "code",
   "execution_count": 6,
   "id": "e8838b1a-bf71-4870-a808-a73db34baf6d",
   "metadata": {},
   "outputs": [
    {
     "name": "stdout",
     "output_type": "stream",
     "text": [
      "Exercise 2: Product of Random Numbers\n",
      "What is 6 * 6?\n"
     ]
    },
    {
     "name": "stdin",
     "output_type": "stream",
     "text": [
      "Your answer:  39\n"
     ]
    },
    {
     "name": "stdout",
     "output_type": "stream",
     "text": [
      "Incorrect. The correct answer is 36.\n",
      "\n"
     ]
    }
   ],
   "source": [
    "print(\"Exercise 2: Product of Random Numbers\")\n",
    "random_product()\n",
    "print()"
   ]
  },
  {
   "cell_type": "markdown",
   "id": "b944712e-f07e-4e7c-9660-baa79f996167",
   "metadata": {},
   "source": [
    "## 3: Squares of Even/Odd Numbers"
   ]
  },
  {
   "cell_type": "code",
   "execution_count": 7,
   "id": "975d8b4a-adb9-4a14-8983-51ec50c59c51",
   "metadata": {},
   "outputs": [],
   "source": [
    "def squares_of_even_odd(start, end, even=True):\n",
    "    # Function to print squares of either even or odd numbers within a range\n",
    "    print(\"Squares of \" + (\"even\" if even else \"odd\") + \" numbers:\")\n",
    "    for i in range(start, end):\n",
    "        if even and i % 2 == 0:\n",
    "            print(f\"{i}^2 = {i**2}\")\n",
    "        elif not even and i % 2 != 0:\n",
    "            print(f\"{i}^2 = {i**2}\")"
   ]
  },
  {
   "cell_type": "code",
   "execution_count": 8,
   "id": "0c0169cc-eb36-4872-b834-7011133c4923",
   "metadata": {},
   "outputs": [
    {
     "name": "stdout",
     "output_type": "stream",
     "text": [
      "Exercise 3: Squares of Even/Odd Numbers\n",
      "Squares of even numbers:\n",
      "100^2 = 10000\n",
      "102^2 = 10404\n",
      "104^2 = 10816\n",
      "106^2 = 11236\n",
      "108^2 = 11664\n",
      "110^2 = 12100\n",
      "112^2 = 12544\n",
      "114^2 = 12996\n",
      "116^2 = 13456\n",
      "118^2 = 13924\n",
      "120^2 = 14400\n",
      "122^2 = 14884\n",
      "124^2 = 15376\n",
      "126^2 = 15876\n",
      "128^2 = 16384\n",
      "130^2 = 16900\n",
      "132^2 = 17424\n",
      "134^2 = 17956\n",
      "136^2 = 18496\n",
      "138^2 = 19044\n",
      "140^2 = 19600\n",
      "142^2 = 20164\n",
      "144^2 = 20736\n",
      "146^2 = 21316\n",
      "148^2 = 21904\n",
      "150^2 = 22500\n",
      "152^2 = 23104\n",
      "154^2 = 23716\n",
      "156^2 = 24336\n",
      "158^2 = 24964\n",
      "160^2 = 25600\n",
      "162^2 = 26244\n",
      "164^2 = 26896\n",
      "166^2 = 27556\n",
      "168^2 = 28224\n",
      "170^2 = 28900\n",
      "172^2 = 29584\n",
      "174^2 = 30276\n",
      "176^2 = 30976\n",
      "178^2 = 31684\n",
      "180^2 = 32400\n",
      "182^2 = 33124\n",
      "184^2 = 33856\n",
      "186^2 = 34596\n",
      "188^2 = 35344\n",
      "190^2 = 36100\n",
      "192^2 = 36864\n",
      "194^2 = 37636\n",
      "196^2 = 38416\n",
      "198^2 = 39204\n",
      "\n"
     ]
    }
   ],
   "source": [
    "print(\"Exercise 3: Squares of Even/Odd Numbers\")\n",
    "squares_of_even_odd(100, 200, even=True)  # Adjust 'even' to True for even numbers, False for odd numbers\n",
    "print()"
   ]
  },
  {
   "cell_type": "markdown",
   "id": "bab9ea6e-8990-4fbe-b83d-5dc1843a851f",
   "metadata": {},
   "source": [
    "##  4: Word Counter"
   ]
  },
  {
   "cell_type": "code",
   "execution_count": 9,
   "id": "e19ad968-9c2c-4ab5-a978-58e258983f9a",
   "metadata": {},
   "outputs": [],
   "source": [
    "import re"
   ]
  },
  {
   "cell_type": "code",
   "execution_count": 10,
   "id": "0cbab97f-af6d-4c8d-97b6-8a0d08865ebe",
   "metadata": {},
   "outputs": [],
   "source": [
    "def word_counter(text):\n",
    "    # Function to count words in a given text\n",
    "    words = text.split()\n",
    "    word_count = {}\n",
    "    for word in words:\n",
    "        # Removing punctuation and converting to lowercase for accurate counting\n",
    "        clean_word = re.sub(r'\\W', '', word).lower()\n",
    "        if clean_word not in word_count:\n",
    "            word_count[clean_word] = 1\n",
    "        else:\n",
    "            word_count[clean_word] += 1\n",
    "    return word_count"
   ]
  },
  {
   "cell_type": "code",
   "execution_count": 11,
   "id": "c60a0a84-fc40-484e-bdeb-94e264097330",
   "metadata": {},
   "outputs": [
    {
     "name": "stdout",
     "output_type": "stream",
     "text": [
      "Exercise 4: Word Counter\n",
      "'this': 2\n",
      "'is': 1\n",
      "'a': 1\n",
      "'sample': 1\n",
      "'text': 2\n",
      "'will': 1\n",
      "'be': 1\n",
      "'used': 1\n",
      "'to': 1\n",
      "'demonstrate': 1\n",
      "'the': 1\n",
      "'word': 1\n",
      "'counter': 1\n",
      "\n"
     ]
    }
   ],
   "source": [
    "input_text = \"This is a sample text. This text will be used to demonstrate the word counter.\"\n",
    "print(\"Exercise 4: Word Counter\")\n",
    "result = word_counter(input_text)\n",
    "for word, count in result.items():\n",
    "    print(f\"'{word}': {count}\")\n",
    "print()"
   ]
  },
  {
   "cell_type": "markdown",
   "id": "1d434571-a624-4fb5-aa7a-1b6cbf98d8a5",
   "metadata": {},
   "source": [
    "##  5: Check for Palindrome"
   ]
  },
  {
   "cell_type": "code",
   "execution_count": 12,
   "id": "d4712a91-8501-4dc7-a674-161c76a29591",
   "metadata": {},
   "outputs": [],
   "source": [
    "def is_palindrome(text):\n",
    "    # Function to check if a text is a palindrome\n",
    "    # Clean the text (remove spaces, punctuation, and convert to lowercase)\n",
    "    cleaned_text = re.sub(r'\\W', '', text).replace(\" \", \"\").lower()\n",
    "    return cleaned_text == cleaned_text[::-1]"
   ]
  },
  {
   "cell_type": "code",
   "execution_count": 13,
   "id": "6471635d-aaba-4398-bf3f-a1791510a05d",
   "metadata": {},
   "outputs": [
    {
     "name": "stdout",
     "output_type": "stream",
     "text": [
      "Exercise 5: Check for Palindrome\n",
      "'racecar' is a palindrome: True\n",
      "'level' is a palindrome: True\n",
      "'hello' is a palindrome: False\n",
      "'world' is a palindrome: False\n",
      "'A man a plan a canal Panama' is a palindrome: True\n"
     ]
    }
   ],
   "source": [
    "print(\"Exercise 5: Check for Palindrome\")\n",
    "test_words = [\"racecar\", \"level\", \"hello\", \"world\", \"A man a plan a canal Panama\"]\n",
    "for word in test_words:\n",
    "    result = is_palindrome(word)\n",
    "    print(f\"'{word}' is a palindrome: {result}\")"
   ]
  },
  {
   "cell_type": "code",
   "execution_count": null,
   "id": "88597012-1280-4df2-a46a-16f0234b3626",
   "metadata": {},
   "outputs": [],
   "source": []
  },
  {
   "cell_type": "code",
   "execution_count": null,
   "id": "95f940be-b920-4a74-a217-9caf6046d3ab",
   "metadata": {},
   "outputs": [],
   "source": []
  },
  {
   "cell_type": "code",
   "execution_count": null,
   "id": "3bcd8dac-eb2a-4757-af8e-35e7e6519a67",
   "metadata": {},
   "outputs": [],
   "source": []
  },
  {
   "cell_type": "code",
   "execution_count": null,
   "id": "6c8d17f3-e5e4-489c-99ec-6946eb577450",
   "metadata": {},
   "outputs": [],
   "source": []
  }
 ],
 "metadata": {
  "kernelspec": {
   "display_name": "Python 3 (ipykernel)",
   "language": "python",
   "name": "python3"
  },
  "language_info": {
   "codemirror_mode": {
    "name": "ipython",
    "version": 3
   },
   "file_extension": ".py",
   "mimetype": "text/x-python",
   "name": "python",
   "nbconvert_exporter": "python",
   "pygments_lexer": "ipython3",
   "version": "3.11.4"
  }
 },
 "nbformat": 4,
 "nbformat_minor": 5
}
