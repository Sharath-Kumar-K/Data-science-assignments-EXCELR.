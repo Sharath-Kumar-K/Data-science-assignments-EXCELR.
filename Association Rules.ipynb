{
 "cells": [
  {
   "cell_type": "markdown",
   "metadata": {
    "id": "P_Z3uflfURxg"
   },
   "source": [
    "# Importing Libraries and Dataset"
   ]
  },
  {
   "cell_type": "code",
   "execution_count": 1,
   "metadata": {
    "id": "or1Sj2ftUrbO"
   },
   "outputs": [],
   "source": [
    "# importing libraries\n",
    "import numpy as np\n",
    "import pandas as pd\n",
    "import matplotlib.pyplot as plt\n",
    "import seaborn as sns\n",
    "import datetime as dt\n",
    "from sklearn.preprocessing import StandardScaler\n",
    "\n",
    "from mlxtend.frequent_patterns import apriori\n",
    "from mlxtend.frequent_patterns import association_rules"
   ]
  },
  {
   "cell_type": "code",
   "execution_count": 2,
   "metadata": {
    "colab": {
     "base_uri": "https://localhost:8080/"
    },
    "id": "BsU_jEVAXtQH",
    "outputId": "7040c405-3cae-4861-f8e0-de281062de3d"
   },
   "outputs": [],
   "source": [
    "import warnings\n",
    "warnings.filterwarnings('ignore')"
   ]
  },
  {
   "cell_type": "code",
   "execution_count": 7,
   "metadata": {
    "colab": {
     "base_uri": "https://localhost:8080/",
     "height": 293
    },
    "id": "PPpWJOC5Uu6i",
    "outputId": "e6fb324f-f1bb-4e62-ec16-bbad7434da28"
   },
   "outputs": [
    {
     "data": {
      "text/plain": [
       "<bound method NDFrame.head of      shrimp,almonds,avocado,vegetables mix,green grapes,whole weat flour,yams,cottage cheese,energy drink,tomato juice,low fat yogurt,green tea,honey,salad,mineral water,salmon,antioxydant juice,frozen smoothie,spinach,olive oil\n",
       "0                                burgers,meatballs,eggs                                                                                                                                                                             \n",
       "1                                               chutney                                                                                                                                                                             \n",
       "2                                        turkey,avocado                                                                                                                                                                             \n",
       "3     mineral water,milk,energy bar,whole wheat rice...                                                                                                                                                                             \n",
       "4                                        low fat yogurt                                                                                                                                                                             \n",
       "...                                                 ...                                                                                                                                                                             \n",
       "7495                      butter,light mayo,fresh bread                                                                                                                                                                             \n",
       "7496  burgers,frozen vegetables,eggs,french fries,ma...                                                                                                                                                                             \n",
       "7497                                            chicken                                                                                                                                                                             \n",
       "7498                                 escalope,green tea                                                                                                                                                                             \n",
       "7499    eggs,frozen smoothie,yogurt cake,low fat yogurt                                                                                                                                                                             \n",
       "\n",
       "[7500 rows x 1 columns]>"
      ]
     },
     "execution_count": 7,
     "metadata": {},
     "output_type": "execute_result"
    }
   ],
   "source": [
    "# importing datasets\n",
    "df = pd.read_excel('Online Retail.xlsx')\n",
    "df.head"
   ]
  },
  {
   "cell_type": "markdown",
   "metadata": {
    "id": "mmjwcjHTUn0J"
   },
   "source": [
    "# Analysis"
   ]
  },
  {
   "cell_type": "code",
   "execution_count": 6,
   "metadata": {
    "colab": {
     "base_uri": "https://localhost:8080/"
    },
    "id": "spkNBqsyFvRo",
    "outputId": "11086860-3449-4672-f965-b7ae75135d86"
   },
   "outputs": [
    {
     "ename": "AttributeError",
     "evalue": "'DataFrame' object has no attribute 'Country'",
     "output_type": "error",
     "traceback": [
      "\u001b[1;31m---------------------------------------------------------------------------\u001b[0m",
      "\u001b[1;31mAttributeError\u001b[0m                            Traceback (most recent call last)",
      "Cell \u001b[1;32mIn[6], line 2\u001b[0m\n\u001b[0;32m      1\u001b[0m \u001b[38;5;66;03m# checking for the records by country\u001b[39;00m\n\u001b[1;32m----> 2\u001b[0m df\u001b[38;5;241m.\u001b[39mCountry\u001b[38;5;241m.\u001b[39mvalue_counts()\n",
      "File \u001b[1;32m~\\anaconda3\\Lib\\site-packages\\pandas\\core\\generic.py:5902\u001b[0m, in \u001b[0;36mNDFrame.__getattr__\u001b[1;34m(self, name)\u001b[0m\n\u001b[0;32m   5895\u001b[0m \u001b[38;5;28;01mif\u001b[39;00m (\n\u001b[0;32m   5896\u001b[0m     name \u001b[38;5;129;01mnot\u001b[39;00m \u001b[38;5;129;01min\u001b[39;00m \u001b[38;5;28mself\u001b[39m\u001b[38;5;241m.\u001b[39m_internal_names_set\n\u001b[0;32m   5897\u001b[0m     \u001b[38;5;129;01mand\u001b[39;00m name \u001b[38;5;129;01mnot\u001b[39;00m \u001b[38;5;129;01min\u001b[39;00m \u001b[38;5;28mself\u001b[39m\u001b[38;5;241m.\u001b[39m_metadata\n\u001b[0;32m   5898\u001b[0m     \u001b[38;5;129;01mand\u001b[39;00m name \u001b[38;5;129;01mnot\u001b[39;00m \u001b[38;5;129;01min\u001b[39;00m \u001b[38;5;28mself\u001b[39m\u001b[38;5;241m.\u001b[39m_accessors\n\u001b[0;32m   5899\u001b[0m     \u001b[38;5;129;01mand\u001b[39;00m \u001b[38;5;28mself\u001b[39m\u001b[38;5;241m.\u001b[39m_info_axis\u001b[38;5;241m.\u001b[39m_can_hold_identifiers_and_holds_name(name)\n\u001b[0;32m   5900\u001b[0m ):\n\u001b[0;32m   5901\u001b[0m     \u001b[38;5;28;01mreturn\u001b[39;00m \u001b[38;5;28mself\u001b[39m[name]\n\u001b[1;32m-> 5902\u001b[0m \u001b[38;5;28;01mreturn\u001b[39;00m \u001b[38;5;28mobject\u001b[39m\u001b[38;5;241m.\u001b[39m\u001b[38;5;21m__getattribute__\u001b[39m(\u001b[38;5;28mself\u001b[39m, name)\n",
      "\u001b[1;31mAttributeError\u001b[0m: 'DataFrame' object has no attribute 'Country'"
     ]
    }
   ],
   "source": [
    "# checking for the records by country\n",
    "df.Country.value_counts()"
   ]
  },
  {
   "cell_type": "code",
   "execution_count": 8,
   "metadata": {
    "id": "4eCVCxljGAQv"
   },
   "outputs": [
    {
     "ename": "KeyError",
     "evalue": "'Country'",
     "output_type": "error",
     "traceback": [
      "\u001b[1;31m---------------------------------------------------------------------------\u001b[0m",
      "\u001b[1;31mKeyError\u001b[0m                                  Traceback (most recent call last)",
      "File \u001b[1;32m~\\anaconda3\\Lib\\site-packages\\pandas\\core\\indexes\\base.py:3802\u001b[0m, in \u001b[0;36mIndex.get_loc\u001b[1;34m(self, key, method, tolerance)\u001b[0m\n\u001b[0;32m   3801\u001b[0m \u001b[38;5;28;01mtry\u001b[39;00m:\n\u001b[1;32m-> 3802\u001b[0m     \u001b[38;5;28;01mreturn\u001b[39;00m \u001b[38;5;28mself\u001b[39m\u001b[38;5;241m.\u001b[39m_engine\u001b[38;5;241m.\u001b[39mget_loc(casted_key)\n\u001b[0;32m   3803\u001b[0m \u001b[38;5;28;01mexcept\u001b[39;00m \u001b[38;5;167;01mKeyError\u001b[39;00m \u001b[38;5;28;01mas\u001b[39;00m err:\n",
      "File \u001b[1;32m~\\anaconda3\\Lib\\site-packages\\pandas\\_libs\\index.pyx:138\u001b[0m, in \u001b[0;36mpandas._libs.index.IndexEngine.get_loc\u001b[1;34m()\u001b[0m\n",
      "File \u001b[1;32m~\\anaconda3\\Lib\\site-packages\\pandas\\_libs\\index.pyx:165\u001b[0m, in \u001b[0;36mpandas._libs.index.IndexEngine.get_loc\u001b[1;34m()\u001b[0m\n",
      "File \u001b[1;32mpandas\\_libs\\hashtable_class_helper.pxi:5745\u001b[0m, in \u001b[0;36mpandas._libs.hashtable.PyObjectHashTable.get_item\u001b[1;34m()\u001b[0m\n",
      "File \u001b[1;32mpandas\\_libs\\hashtable_class_helper.pxi:5753\u001b[0m, in \u001b[0;36mpandas._libs.hashtable.PyObjectHashTable.get_item\u001b[1;34m()\u001b[0m\n",
      "\u001b[1;31mKeyError\u001b[0m: 'Country'",
      "\nThe above exception was the direct cause of the following exception:\n",
      "\u001b[1;31mKeyError\u001b[0m                                  Traceback (most recent call last)",
      "Cell \u001b[1;32mIn[8], line 2\u001b[0m\n\u001b[0;32m      1\u001b[0m \u001b[38;5;66;03m# based on above observations, taking out the Germany values\u001b[39;00m\n\u001b[1;32m----> 2\u001b[0m df \u001b[38;5;241m=\u001b[39m df[df[\u001b[38;5;124m'\u001b[39m\u001b[38;5;124mCountry\u001b[39m\u001b[38;5;124m'\u001b[39m] \u001b[38;5;241m==\u001b[39m \u001b[38;5;124m'\u001b[39m\u001b[38;5;124mGermany\u001b[39m\u001b[38;5;124m'\u001b[39m]\n",
      "File \u001b[1;32m~\\anaconda3\\Lib\\site-packages\\pandas\\core\\frame.py:3807\u001b[0m, in \u001b[0;36mDataFrame.__getitem__\u001b[1;34m(self, key)\u001b[0m\n\u001b[0;32m   3805\u001b[0m \u001b[38;5;28;01mif\u001b[39;00m \u001b[38;5;28mself\u001b[39m\u001b[38;5;241m.\u001b[39mcolumns\u001b[38;5;241m.\u001b[39mnlevels \u001b[38;5;241m>\u001b[39m \u001b[38;5;241m1\u001b[39m:\n\u001b[0;32m   3806\u001b[0m     \u001b[38;5;28;01mreturn\u001b[39;00m \u001b[38;5;28mself\u001b[39m\u001b[38;5;241m.\u001b[39m_getitem_multilevel(key)\n\u001b[1;32m-> 3807\u001b[0m indexer \u001b[38;5;241m=\u001b[39m \u001b[38;5;28mself\u001b[39m\u001b[38;5;241m.\u001b[39mcolumns\u001b[38;5;241m.\u001b[39mget_loc(key)\n\u001b[0;32m   3808\u001b[0m \u001b[38;5;28;01mif\u001b[39;00m is_integer(indexer):\n\u001b[0;32m   3809\u001b[0m     indexer \u001b[38;5;241m=\u001b[39m [indexer]\n",
      "File \u001b[1;32m~\\anaconda3\\Lib\\site-packages\\pandas\\core\\indexes\\base.py:3804\u001b[0m, in \u001b[0;36mIndex.get_loc\u001b[1;34m(self, key, method, tolerance)\u001b[0m\n\u001b[0;32m   3802\u001b[0m     \u001b[38;5;28;01mreturn\u001b[39;00m \u001b[38;5;28mself\u001b[39m\u001b[38;5;241m.\u001b[39m_engine\u001b[38;5;241m.\u001b[39mget_loc(casted_key)\n\u001b[0;32m   3803\u001b[0m \u001b[38;5;28;01mexcept\u001b[39;00m \u001b[38;5;167;01mKeyError\u001b[39;00m \u001b[38;5;28;01mas\u001b[39;00m err:\n\u001b[1;32m-> 3804\u001b[0m     \u001b[38;5;28;01mraise\u001b[39;00m \u001b[38;5;167;01mKeyError\u001b[39;00m(key) \u001b[38;5;28;01mfrom\u001b[39;00m \u001b[38;5;21;01merr\u001b[39;00m\n\u001b[0;32m   3805\u001b[0m \u001b[38;5;28;01mexcept\u001b[39;00m \u001b[38;5;167;01mTypeError\u001b[39;00m:\n\u001b[0;32m   3806\u001b[0m     \u001b[38;5;66;03m# If we have a listlike key, _check_indexing_error will raise\u001b[39;00m\n\u001b[0;32m   3807\u001b[0m     \u001b[38;5;66;03m#  InvalidIndexError. Otherwise we fall through and re-raise\u001b[39;00m\n\u001b[0;32m   3808\u001b[0m     \u001b[38;5;66;03m#  the TypeError.\u001b[39;00m\n\u001b[0;32m   3809\u001b[0m     \u001b[38;5;28mself\u001b[39m\u001b[38;5;241m.\u001b[39m_check_indexing_error(key)\n",
      "\u001b[1;31mKeyError\u001b[0m: 'Country'"
     ]
    }
   ],
   "source": [
    "# based on above observations, taking out the Germany values\n",
    "df = df[df['Country'] == 'Germany']"
   ]
  },
  {
   "cell_type": "code",
   "execution_count": null,
   "metadata": {
    "colab": {
     "base_uri": "https://localhost:8080/"
    },
    "id": "OdGGPQcmYLvU",
    "outputId": "1125a689-d766-4767-c9fe-a1d82aed1ed4"
   },
   "outputs": [],
   "source": [
    "# understanding dataset\n",
    "df.info()"
   ]
  },
  {
   "cell_type": "code",
   "execution_count": null,
   "metadata": {
    "colab": {
     "base_uri": "https://localhost:8080/"
    },
    "id": "5qbghcFtUu82",
    "outputId": "5d41c486-fed4-4cda-dbc3-f26a554684d6"
   },
   "outputs": [],
   "source": [
    "# checking for null values\n",
    "df.isnull().sum()"
   ]
  },
  {
   "cell_type": "code",
   "execution_count": null,
   "metadata": {
    "colab": {
     "base_uri": "https://localhost:8080/",
     "height": 300
    },
    "id": "499XTk2zaOT-",
    "outputId": "4a4be327-7aee-4e6c-b89b-96bfbc7eb547"
   },
   "outputs": [],
   "source": [
    "# looking for stats\n",
    "df.describe()"
   ]
  },
  {
   "cell_type": "code",
   "execution_count": null,
   "metadata": {
    "colab": {
     "base_uri": "https://localhost:8080/"
    },
    "id": "tynYTKcNZ4_2",
    "outputId": "a65db58b-92fa-413d-c030-e7b117273d18"
   },
   "outputs": [],
   "source": [
    "# checking the samples for any discripency\n",
    "df.InvoiceNo.sample(10)"
   ]
  },
  {
   "cell_type": "code",
   "execution_count": null,
   "metadata": {
    "colab": {
     "base_uri": "https://localhost:8080/"
    },
    "id": "-NivkWJmZeMq",
    "outputId": "f7fd86bc-c02e-4eb4-e3f7-6d2ba323c092"
   },
   "outputs": [],
   "source": [
    "# heccking the records for negative values\n",
    "print('shape of data containg quantity less than 0:', df[df.Quantity <=0].shape)\n",
    "print('shape of data containg unitprice is negative:', df[df.UnitPrice <=0].shape)"
   ]
  },
  {
   "cell_type": "code",
   "execution_count": null,
   "metadata": {
    "colab": {
     "base_uri": "https://localhost:8080/"
    },
    "id": "Ih2aKhQJZqqy",
    "outputId": "c504ad69-30cc-429f-cff8-5da8b6b147b9"
   },
   "outputs": [],
   "source": [
    "# removing the above observations from the dataset\n",
    "df = df[(df.Quantity > 0) & (df.UnitPrice > 0)]\n",
    "df.shape"
   ]
  },
  {
   "cell_type": "markdown",
   "metadata": {
    "id": "8hfNp_AegO8y"
   },
   "source": [
    "# Market Business Analysis"
   ]
  },
  {
   "cell_type": "code",
   "execution_count": null,
   "metadata": {
    "colab": {
     "base_uri": "https://localhost:8080/",
     "height": 112
    },
    "id": "KJnQaqJ8gNL7",
    "outputId": "f69fb3e9-114d-4a7c-d284-d3b630444729"
   },
   "outputs": [],
   "source": [
    "# filtering the dataset\n",
    "df_mba = df[['InvoiceNo', 'Description', 'Quantity']]\n",
    "df_mba.head(2)"
   ]
  },
  {
   "cell_type": "code",
   "execution_count": null,
   "metadata": {
    "colab": {
     "base_uri": "https://localhost:8080/"
    },
    "id": "9GsaqMjpgm0J",
    "outputId": "3dcac9a3-0752-4eca-84fb-c5445a77e923"
   },
   "outputs": [],
   "source": [
    "# Total unique items present in final dataset\n",
    "len(df_mba.Description.unique())"
   ]
  },
  {
   "cell_type": "code",
   "execution_count": null,
   "metadata": {
    "colab": {
     "base_uri": "https://localhost:8080/"
    },
    "id": "lLBJUVEqgryC",
    "outputId": "5f311d4d-8a7a-4829-99ec-9693fcb0f807"
   },
   "outputs": [],
   "source": [
    "# Total unique InvoiceNo present in final dataset\n",
    "len(df_mba.InvoiceNo.unique())"
   ]
  },
  {
   "cell_type": "code",
   "execution_count": null,
   "metadata": {
    "id": "sX91LFUWg36P"
   },
   "outputs": [],
   "source": [
    "# printing the top 20 selling items\n",
    "\n",
    "top_20 = pd.DataFrame(df_mba.Description.value_counts().head(20))\n",
    "top_20.reset_index(inplace=True)\n",
    "top_20.columns = ['Description', 'Count']"
   ]
  },
  {
   "cell_type": "code",
   "execution_count": null,
   "metadata": {
    "colab": {
     "base_uri": "https://localhost:8080/",
     "height": 143
    },
    "id": "BiJ-cSTsm9gK",
    "outputId": "7a579b0f-0c3c-43a2-a765-71cc18a8b8aa"
   },
   "outputs": [],
   "source": [
    "top_20.head(3)"
   ]
  },
  {
   "cell_type": "code",
   "execution_count": null,
   "metadata": {
    "colab": {
     "base_uri": "https://localhost:8080/",
     "height": 449
    },
    "id": "WcP4ta1Ag-Tw",
    "outputId": "f4dc0cf3-d7e3-4a97-8c8b-4d28e054f425"
   },
   "outputs": [],
   "source": [
    "# plotting the count of each item\n",
    "sns.barplot(top_20, y=\"Description\", x=\"Count\", orient = 'h');"
   ]
  },
  {
   "cell_type": "code",
   "execution_count": null,
   "metadata": {
    "colab": {
     "base_uri": "https://localhost:8080/",
     "height": 112
    },
    "id": "HKXc5SVynYR1",
    "outputId": "4c9339e5-f48b-4d33-fa04-d59e1afb8b24"
   },
   "outputs": [],
   "source": [
    "# Grouping the Invoices based on the description of the items\n",
    "df_mba = df_mba.groupby('InvoiceNo')['Description'].agg(lambda x: ', '.join(x)).reset_index()\n",
    "df_mba.head(2)"
   ]
  },
  {
   "cell_type": "code",
   "execution_count": null,
   "metadata": {
    "colab": {
     "base_uri": "https://localhost:8080/"
    },
    "id": "fe855cjFJ4Wg",
    "outputId": "737512be-3464-49f9-a684-a9b2b0727d16"
   },
   "outputs": [],
   "source": [
    "# shape of the final dataset\n",
    "df_mba.shape"
   ]
  },
  {
   "cell_type": "code",
   "execution_count": null,
   "metadata": {
    "id": "kR4SkqeBJvPl"
   },
   "outputs": [],
   "source": [
    "# Splitting the Description column\n",
    "df_items = df_mba['Description'].str.split(', ', expand=True)\n",
    "\n",
    "# one hot encoding\n",
    "df_ohe = pd.get_dummies(df_items.apply(lambda x: x.str.strip()), prefix='', prefix_sep='').groupby(level=0, axis=1).max()\n",
    "\n",
    "# final dataset\n",
    "df_final = pd.concat([df_mba, df_ohe], axis=1)"
   ]
  },
  {
   "cell_type": "code",
   "execution_count": null,
   "metadata": {
    "id": "OJQGLcy6Lfn7"
   },
   "outputs": [],
   "source": [
    "# dropping the Description column\n",
    "df_final.drop('Description', axis =1, inplace =True)\n",
    "\n",
    "# setting invoice no as index\n",
    "df_final.set_index('InvoiceNo', inplace =True)"
   ]
  },
  {
   "cell_type": "code",
   "execution_count": null,
   "metadata": {
    "colab": {
     "base_uri": "https://localhost:8080/",
     "height": 280
    },
    "id": "Lmdx1LUDJvDQ",
    "outputId": "635383cb-53dd-4f9c-cc52-dc5495fc3c4a"
   },
   "outputs": [],
   "source": [
    "df_final.head(2)"
   ]
  },
  {
   "cell_type": "markdown",
   "metadata": {
    "id": "P6offzbzXYjv"
   },
   "source": [
    "## Apriori Model"
   ]
  },
  {
   "cell_type": "markdown",
   "metadata": {
    "id": "T3g7t4k2oQ9s"
   },
   "source": [
    "- min_support : float (default: 0.5)\n",
    "\n",
    "A float between 0 and 1 for minumum support of the itemsets returned. The support is computed as the fraction transactions_where_item(s)_occur / total_transactions.\n",
    "\n",
    "- use_colnames : bool (default: False)\n",
    "\n",
    "If True, uses the DataFrames' column names in the returned DataFrame instead of column indices.\n",
    "\n",
    "- max_len : int (default: None)\n",
    "\n",
    "Maximum length of the itemsets generated. If None (default) all possible itemsets lengths (under the apriori condition) are evaluated.\n",
    "\n",
    "- verbose : int (default: 0)\n",
    "\n",
    "Shows the number of iterations if >= 1 and low_memory is True. If\n",
    "\n",
    "=1 and low_memory is False, shows the number of combinations.\n",
    "\n",
    "- low_memory : bool (default: False)\n",
    "\n",
    "If True, uses an iterator to search for combinations above min_support. Note that while low_memory=True should only be used for large dataset if memory resources are limited, because this implementation is approx. 3-6x slower than the default."
   ]
  },
  {
   "cell_type": "markdown",
   "metadata": {
    "id": "IXVcRV94puTz"
   },
   "source": [
    "#### Try 1"
   ]
  },
  {
   "cell_type": "code",
   "execution_count": null,
   "metadata": {
    "id": "vWi_ANxbpBM_"
   },
   "outputs": [],
   "source": [
    "# instanciating the apriori model with default parameters\n",
    "\n",
    "df_support = apriori(df_final)"
   ]
  },
  {
   "cell_type": "code",
   "execution_count": null,
   "metadata": {
    "id": "Ecn_3szEpKCi"
   },
   "outputs": [],
   "source": [
    "# sorting the result based on the support, maximum on top\n",
    "df_support = df_support.sort_values(\"support\", ascending = False)"
   ]
  },
  {
   "cell_type": "code",
   "execution_count": null,
   "metadata": {
    "id": "qwG54hxRpNPO"
   },
   "outputs": [],
   "source": [
    "# creating a column indicating number of items in each bucket\n",
    "df_support['total Items'] = df_support['itemsets'].apply(lambda x: len(x))"
   ]
  },
  {
   "cell_type": "code",
   "execution_count": null,
   "metadata": {
    "colab": {
     "base_uri": "https://localhost:8080/",
     "height": 98
    },
    "id": "Xijhhn7RpNJi",
    "outputId": "e11395c5-ece3-4285-e571-8ac18f29253d"
   },
   "outputs": [],
   "source": [
    "print(df_support.shape)\n",
    "df_support.head(10)"
   ]
  },
  {
   "cell_type": "markdown",
   "metadata": {
    "id": "cbK-Du8rpUlN"
   },
   "source": [
    "By Using default parameters, we are not getting any output from the data.\n",
    "So, trying with different random parameters."
   ]
  },
  {
   "cell_type": "markdown",
   "metadata": {
    "id": "h-YLoIg3pyHe"
   },
   "source": [
    "#### Try 2"
   ]
  },
  {
   "cell_type": "code",
   "execution_count": null,
   "metadata": {
    "colab": {
     "base_uri": "https://localhost:8080/"
    },
    "id": "v0-AX0yEI8fm",
    "outputId": "45b12c3c-81d4-434b-ef65-5af6123a956b"
   },
   "outputs": [],
   "source": [
    "# instanciating the apriori model\n",
    "\n",
    "df_support1 = apriori(df_final, min_support = 0.1, use_colnames = True, verbose = 1)\n"
   ]
  },
  {
   "cell_type": "code",
   "execution_count": null,
   "metadata": {
    "id": "fKyLLJ3wJCGl"
   },
   "outputs": [],
   "source": [
    "# sorting the result based on the support, maximum on top\n",
    "df_support1 = df_support1.sort_values(\"support\", ascending = False)"
   ]
  },
  {
   "cell_type": "code",
   "execution_count": null,
   "metadata": {
    "id": "dj0dFMjtMfDt"
   },
   "outputs": [],
   "source": [
    "# creating a column indicating number of items in each bucket\n",
    "df_support1['total Items'] = df_support1['itemsets'].apply(lambda x: len(x))"
   ]
  },
  {
   "cell_type": "code",
   "execution_count": null,
   "metadata": {
    "colab": {
     "base_uri": "https://localhost:8080/",
     "height": 380
    },
    "id": "bJ_4ZivdYCCg",
    "outputId": "ca52789b-b300-4fab-b8f6-465ccf229074"
   },
   "outputs": [],
   "source": [
    "print(df_support1.shape)\n",
    "df_support1.head(10)"
   ]
  },
  {
   "cell_type": "code",
   "execution_count": null,
   "metadata": {
    "id": "I_YUgxnONQAM"
   },
   "outputs": [],
   "source": [
    "# printing out the association dataset, based on the confidence metric\n",
    "df_ass_rule1 = association_rules(df_support1, metric=\"confidence\", min_threshold=0.2)\n",
    "\n",
    "# sorting the values based on confidence\n",
    "df_ass_rule1 = df_ass_rule1.sort_values('confidence',ascending=False)"
   ]
  },
  {
   "cell_type": "code",
   "execution_count": null,
   "metadata": {
    "colab": {
     "base_uri": "https://localhost:8080/",
     "height": 936
    },
    "id": "AMD5BS3lZfbH",
    "outputId": "1507fe0c-4976-4a05-be17-23887d7d36eb"
   },
   "outputs": [],
   "source": [
    "print(df_ass_rule1.shape)\n",
    "df_ass_rule1.head(10)"
   ]
  },
  {
   "cell_type": "code",
   "execution_count": null,
   "metadata": {
    "colab": {
     "base_uri": "https://localhost:8080/"
    },
    "id": "RrFojaz1vgoS",
    "outputId": "d07dd6cc-494d-4c2f-e376-f92a57551a59"
   },
   "outputs": [],
   "source": [
    "top = df_ass_rule1.head(8)\n",
    "\n",
    "top = [list(x) for x in top['antecedents'].tolist()]\n",
    "top = [i[0] for i in top ]\n",
    "top"
   ]
  },
  {
   "cell_type": "markdown",
   "metadata": {
    "id": "Jb9tG0QqwWqu"
   },
   "source": [
    "**Observations**\n",
    "\n",
    "Based on the above observation and Confidence values, we can say that following items are highly associated with the `Postage`.\n",
    "\n",
    "['ROUND SNACK BOXES SET OF 4 FRUITS',\n",
    " 'ROUND SNACK BOXES SET OF 4 FRUITS',\n",
    " 'PLASTERS IN TIN SPACEBOY',\n",
    " 'ROUND SNACK BOXES SET OF4 WOODLAND',\n",
    " 'WOODLAND CHARLOTTE BAG',\n",
    " 'REGENCY CAKESTAND 3 TIER',\n",
    " 'PLASTERS IN TIN CIRCUS PARADE',\n",
    " 'PLASTERS IN TIN WOODLAND ANIMALS']"
   ]
  },
  {
   "cell_type": "markdown",
   "metadata": {
    "id": "nS2LQccHtA-9"
   },
   "source": [
    "- Antecedents:\n",
    "\n",
    "The items or features that appear before the arrow in the association rule (A -> B). These are the conditions or items present in the dataset.\n",
    "\n",
    "- Consequents:\n",
    "\n",
    "The items or features that appear after the arrow in the association rule (A -> B). These are the outcomes or items that are predicted or inferred based on the antecedents.\n",
    "\n",
    "- Antecedent Support:\n",
    "\n",
    "The proportion of transactions in the dataset that contain the antecedent itemset. It gives an indication of how frequently the antecedent occurs.\n",
    "\n",
    "- Consequent Support:\n",
    "\n",
    "The proportion of transactions in the dataset that contain the consequent itemset. It gives an indication of how frequently the consequent occurs.\n",
    "\n",
    "- Support:\n",
    "\n",
    "The proportion of transactions in the dataset that contain both the antecedent and consequent itemsets. It is a measure of how frequently the rule is observed.\n",
    "\n",
    "- Confidence:\n",
    "\n",
    "The likelihood that the rule is true. It is calculated as the support of the itemset {A, B} divided by the support of A. For the rule A -> B, confidence indicates the probability of B occurring given that A has occurred.\n",
    "\n",
    "- Lift:\n",
    "\n",
    "Indicates the degree to which the occurrence of B is dependent on the occurrence of A, compared to their individual occurrences. A lift greater than 1 suggests a positive correlation, while a lift less than 1 suggests a negative correlation.\n",
    "\n",
    "- Leverage:\n",
    "\n",
    "Measures the difference between the observed support of the itemset {A, B} and the expected support if A and B were independent. Positive values indicate that the occurrence of A and B together is more frequent than expected.\n",
    "\n",
    "- Conviction:\n",
    "\n",
    "Measures the ratio of the expected frequency that A occurs without B to the observed frequency that A occurs without B. Higher conviction values indicate stronger dependency between A and B.\n",
    "\n",
    "- Zhang's Metric:\n",
    "\n",
    "An alternative metric for measuring the interestingness of association rules. It considers both confidence and support and is used to rank rules.\n",
    "Interpreting the output involves analyzing these metrics to identify meaningful and actionable rules. For example, high confidence and lift values indicate strong associations, while low confidence might suggest weak or spurious relationships."
   ]
  },
  {
   "cell_type": "code",
   "execution_count": null,
   "metadata": {
    "id": "jWRcg5t-xP4o"
   },
   "outputs": [],
   "source": []
  },
  {
   "cell_type": "markdown",
   "metadata": {
    "id": "bwOGgkHJb2T7"
   },
   "source": [
    "#RFM Model"
   ]
  },
  {
   "cell_type": "code",
   "execution_count": null,
   "metadata": {
    "colab": {
     "base_uri": "https://localhost:8080/",
     "height": 81
    },
    "id": "aROsVq01b6zx",
    "outputId": "8ce26e65-8be2-4eec-f4fa-f76c71490532"
   },
   "outputs": [],
   "source": [
    "df.head(1)"
   ]
  },
  {
   "cell_type": "code",
   "execution_count": null,
   "metadata": {
    "id": "h3g4H8uVcuJi"
   },
   "outputs": [],
   "source": [
    "# converting customerId into integer format\n",
    "\n",
    "df['CustomerID'] = df['CustomerID'].astype(int)"
   ]
  },
  {
   "cell_type": "code",
   "execution_count": null,
   "metadata": {
    "id": "nluZim8fb9YX"
   },
   "outputs": [],
   "source": [
    "# calculating the total spending\n",
    "\n",
    "df['Total_cost'] = df['Quantity'] * df['UnitPrice']"
   ]
  },
  {
   "cell_type": "code",
   "execution_count": null,
   "metadata": {
    "colab": {
     "base_uri": "https://localhost:8080/",
     "height": 112
    },
    "id": "0HqDvanObFQE",
    "outputId": "43e3dae1-a9c7-4483-ff62-6459a4e30604"
   },
   "outputs": [],
   "source": [
    "# filtering the dataset\n",
    "\n",
    "df_rfm = df[['InvoiceNo',\t'InvoiceDate', 'CustomerID', 'Total_cost']]\n",
    "df_rfm.head(2)"
   ]
  },
  {
   "cell_type": "code",
   "execution_count": null,
   "metadata": {
    "colab": {
     "base_uri": "https://localhost:8080/",
     "height": 206
    },
    "id": "Q3pEHpLCcbKC",
    "outputId": "f189e690-4932-4ab4-8382-8f829091fb85"
   },
   "outputs": [],
   "source": [
    "# calculating the amount of money spent by each customer\n",
    "\n",
    "df_money = df_rfm.groupby('CustomerID')['Total_cost'].sum()\n",
    "df_money = df_money.reset_index()\n",
    "df_money.head()"
   ]
  },
  {
   "cell_type": "code",
   "execution_count": null,
   "metadata": {
    "colab": {
     "base_uri": "https://localhost:8080/",
     "height": 206
    },
    "id": "equ5Xytpc_b4",
    "outputId": "5126b25f-87f6-4b56-e8c2-e3e1240dc3c0"
   },
   "outputs": [],
   "source": [
    "# calculating how frequently\n",
    "\n",
    "df_freq = df_rfm.groupby(['CustomerID','InvoiceDate'])['InvoiceNo'].count()\n",
    "\n",
    "df_freq = df_freq.reset_index()\n",
    "\n",
    "df_freq = df_freq[['CustomerID', 'InvoiceNo']]\n",
    "\n",
    "df_freq = df_freq.groupby('CustomerID')['InvoiceNo'].count()\n",
    "\n",
    "df_freq = df_freq.reset_index()\n",
    "\n",
    "df_freq.head()"
   ]
  },
  {
   "cell_type": "code",
   "execution_count": null,
   "metadata": {
    "colab": {
     "base_uri": "https://localhost:8080/"
    },
    "id": "ULube7_6dmqo",
    "outputId": "de832fca-75cb-48fb-aebb-7be71cda240a"
   },
   "outputs": [],
   "source": [
    "# identifying the minimum and maximum date present in dataset\n",
    "\n",
    "df_rfm.InvoiceDate.min(), df_rfm.InvoiceDate.max()"
   ]
  },
  {
   "cell_type": "code",
   "execution_count": null,
   "metadata": {
    "id": "Na9JQEVadtXy"
   },
   "outputs": [],
   "source": [
    "# Calculating the date diff, which indicates how recently customer has purchased the items\n",
    "\n",
    "df_rfm['time_diff'] = df_rfm.InvoiceDate.max() - df_rfm['InvoiceDate']"
   ]
  },
  {
   "cell_type": "code",
   "execution_count": null,
   "metadata": {
    "colab": {
     "base_uri": "https://localhost:8080/",
     "height": 112
    },
    "id": "WnOncA28epy6",
    "outputId": "a107ae1d-3cd9-40cd-b607-2d49f16876ce"
   },
   "outputs": [],
   "source": [
    "# Extracting the days in time_diff column\n",
    "\n",
    "df_rfm['time_diff'] = df_rfm['time_diff'].dt.days\n",
    "\n",
    "df_rfm.head(2)"
   ]
  },
  {
   "cell_type": "code",
   "execution_count": null,
   "metadata": {
    "colab": {
     "base_uri": "https://localhost:8080/",
     "height": 206
    },
    "id": "tvxEPItqejNS",
    "outputId": "063aaad0-34ab-44a3-817a-26603875606e"
   },
   "outputs": [],
   "source": [
    "# Aggregating the customerID with respect to date diff column\n",
    "\n",
    "df_recency = df_rfm.groupby('CustomerID')['time_diff'].min()\n",
    "df_recency = df_recency.reset_index()\n",
    "df_recency.head()"
   ]
  },
  {
   "cell_type": "code",
   "execution_count": null,
   "metadata": {
    "colab": {
     "base_uri": "https://localhost:8080/",
     "height": 206
    },
    "id": "vWAEhsioe1Rk",
    "outputId": "4754f3ed-1061-421c-db06-f279d07cbb9e"
   },
   "outputs": [],
   "source": [
    "# Creating the dataset with all 3 determined quantities\n",
    "\n",
    "df_cluster = pd.merge(df_recency, df_freq, on = 'CustomerID', how = 'inner').merge(df_money, on = 'CustomerID', how = 'inner')\n",
    "df_cluster.head()"
   ]
  },
  {
   "cell_type": "code",
   "execution_count": null,
   "metadata": {
    "colab": {
     "base_uri": "https://localhost:8080/",
     "height": 300
    },
    "id": "0TGP8XfIkACg",
    "outputId": "46691e48-02f3-45f6-e61b-80302ca9a713"
   },
   "outputs": [],
   "source": [
    "df_cluster.describe()"
   ]
  },
  {
   "cell_type": "code",
   "execution_count": null,
   "metadata": {
    "colab": {
     "base_uri": "https://localhost:8080/",
     "height": 328
    },
    "id": "BsW5JO95kJfH",
    "outputId": "d1602652-0d3c-4fc5-83fc-6143e4210704"
   },
   "outputs": [],
   "source": [
    "# Checking the outliers\n",
    "\n",
    "plt.figure(figsize = (7,3))\n",
    "sns.boxplot(x=df_cluster['time_diff'])"
   ]
  },
  {
   "cell_type": "code",
   "execution_count": null,
   "metadata": {
    "colab": {
     "base_uri": "https://localhost:8080/",
     "height": 328
    },
    "id": "KCPu6Kldle5r",
    "outputId": "9ccc8319-b7bc-43ad-dd45-bad942e562d5"
   },
   "outputs": [],
   "source": [
    "# removing the outliers from time_diff column\n",
    "\n",
    "Q1 = df_cluster['time_diff'].quantile(0.05)\n",
    "Q3 = df_cluster['time_diff'].quantile(0.60)\n",
    "IQR = Q3 - Q1\n",
    "df_cluster = df_cluster[(df_cluster['time_diff'] >= Q1 - 1.5*IQR) & (df_cluster['time_diff'] <= Q3 + 1.5*IQR)]\n",
    "\n",
    "plt.figure(figsize = (7,3))\n",
    "sns.boxplot(x=df_cluster['time_diff'])"
   ]
  },
  {
   "cell_type": "code",
   "execution_count": null,
   "metadata": {
    "colab": {
     "base_uri": "https://localhost:8080/",
     "height": 328
    },
    "id": "2uhhYMFFkYaj",
    "outputId": "2e53e96d-535d-46d1-cf10-cfab28b70e23"
   },
   "outputs": [],
   "source": [
    "# checking for the outliers present in InvoiceNo column\n",
    "\n",
    "plt.figure(figsize = (7,3))\n",
    "sns.boxplot(x=df_cluster['InvoiceNo'])"
   ]
  },
  {
   "cell_type": "code",
   "execution_count": null,
   "metadata": {
    "colab": {
     "base_uri": "https://localhost:8080/",
     "height": 328
    },
    "id": "zltzzs5enObl",
    "outputId": "b56b8d3b-0aa1-45d0-aab3-c888a93a990b"
   },
   "outputs": [],
   "source": [
    "# Removing the outliers present in InvoiceNo column\n",
    "\n",
    "Q1 = df_cluster['InvoiceNo'].quantile(0.05)\n",
    "Q3 = df_cluster['InvoiceNo'].quantile(0.7)\n",
    "IQR = Q3 - Q1\n",
    "df_cluster = df_cluster[(df_cluster['InvoiceNo'] >= Q1 - 1.5*IQR) & (df_cluster['InvoiceNo'] <= Q3 + 1.5*IQR)]\n",
    "\n",
    "plt.figure(figsize = (7,3))\n",
    "sns.boxplot(x=df_cluster['InvoiceNo'])"
   ]
  },
  {
   "cell_type": "code",
   "execution_count": null,
   "metadata": {
    "id": "n2ZNrSFxnUH3"
   },
   "outputs": [],
   "source": []
  },
  {
   "cell_type": "code",
   "execution_count": null,
   "metadata": {
    "colab": {
     "base_uri": "https://localhost:8080/",
     "height": 328
    },
    "id": "uzST16HIlawX",
    "outputId": "9e24e868-a9fd-4064-9949-981146c23511"
   },
   "outputs": [],
   "source": [
    "# checking the outliers present in Total_cost column\n",
    "\n",
    "plt.figure(figsize = (7,3))\n",
    "sns.boxplot(x=df_cluster['Total_cost'])"
   ]
  },
  {
   "cell_type": "code",
   "execution_count": null,
   "metadata": {
    "colab": {
     "base_uri": "https://localhost:8080/",
     "height": 328
    },
    "id": "_VL2puy8nkyW",
    "outputId": "a6c8cd4d-0c9d-40d0-daed-6a70054ff0f2"
   },
   "outputs": [],
   "source": [
    "# removing the outliers from Total_cost column\n",
    "\n",
    "Q1 = df_cluster['Total_cost'].quantile(0.05)\n",
    "Q3 = df_cluster['Total_cost'].quantile(0.7)\n",
    "IQR = Q3 - Q1\n",
    "df_cluster = df_cluster[(df_cluster['Total_cost'] >= Q1 - 1.5*IQR) & (df_cluster['Total_cost'] <= Q3 + 1.5*IQR)]\n",
    "\n",
    "plt.figure(figsize = (7,3))\n",
    "sns.boxplot(x=df_cluster['Total_cost'])"
   ]
  },
  {
   "cell_type": "code",
   "execution_count": null,
   "metadata": {
    "id": "Gdn82Taxnksx"
   },
   "outputs": [],
   "source": []
  },
  {
   "cell_type": "code",
   "execution_count": null,
   "metadata": {
    "id": "80eyk9R_oFZA"
   },
   "outputs": [],
   "source": [
    "# scaling"
   ]
  },
  {
   "cell_type": "code",
   "execution_count": null,
   "metadata": {
    "colab": {
     "base_uri": "https://localhost:8080/",
     "height": 206
    },
    "id": "JYHRTeT023Ni",
    "outputId": "3ef38c9d-067a-42e1-f0fa-31b31ab5c82e"
   },
   "outputs": [],
   "source": [
    "# Standardizing the dataset for further analysis\n",
    "sc = StandardScaler()\n",
    "df_cluster_sc = sc.fit_transform(df_cluster[['time_diff'\t,'InvoiceNo'\t,'Total_cost']])\n",
    "\n",
    "# converting into dataset\n",
    "df_cluster_sc = pd.DataFrame(df_cluster_sc)\n",
    "df_cluster_sc.columns = ['time_diff'\t,'InvoiceNo'\t,'Total_cost']\n",
    "df_cluster_sc.head()"
   ]
  },
  {
   "cell_type": "markdown",
   "metadata": {
    "id": "Np_9JFjXDEwY"
   },
   "source": [
    "## Kmeans clustering"
   ]
  },
  {
   "cell_type": "code",
   "execution_count": null,
   "metadata": {
    "id": "8Ii1shzkDP6r"
   },
   "outputs": [],
   "source": [
    "# importing dataset\n",
    "\n",
    "import sklearn\n",
    "from sklearn.preprocessing import StandardScaler\n",
    "from sklearn.cluster import KMeans\n",
    "from sklearn.metrics import silhouette_score"
   ]
  },
  {
   "cell_type": "code",
   "execution_count": null,
   "metadata": {
    "colab": {
     "base_uri": "https://localhost:8080/",
     "height": 430
    },
    "id": "dhq4iGGuAk_T",
    "outputId": "d5068117-ca4d-4c39-85ca-342c696660d6"
   },
   "outputs": [],
   "source": [
    "# elbow-curve/SSD\n",
    "# calculating the sum of squared distance for optimum cluster values\n",
    "\n",
    "ssd = []\n",
    "range_n_clusters = [2, 3, 4, 5, 6, 7, 8]\n",
    "for num_clusters in range_n_clusters:\n",
    "    kmeans = KMeans(n_clusters=num_clusters, max_iter=50)\n",
    "    kmeans.fit(df_cluster_sc)\n",
    "\n",
    "    ssd.append(kmeans.inertia_)\n",
    "\n",
    "# plot the SSDs for each n_clusters\n",
    "# ssd\n",
    "plt.plot(ssd);"
   ]
  },
  {
   "cell_type": "code",
   "execution_count": null,
   "metadata": {
    "colab": {
     "base_uri": "https://localhost:8080/"
    },
    "id": "Rfdh3_xF3Mwm",
    "outputId": "377acd79-6491-4f0d-8bd3-a421bd395207"
   },
   "outputs": [],
   "source": [
    "ssd"
   ]
  },
  {
   "cell_type": "code",
   "execution_count": null,
   "metadata": {
    "colab": {
     "base_uri": "https://localhost:8080/"
    },
    "id": "M9pNs5DYDOHh",
    "outputId": "9f76f7e9-94b8-448d-c15a-b50c62539188"
   },
   "outputs": [],
   "source": [
    "# silhouette analysis\n",
    "range_n_clusters = [2, 3, 4, 5, 6, 7, 8]\n",
    "\n",
    "for num_clusters in range_n_clusters:\n",
    "\n",
    "    # intialise kmeans\n",
    "    kmeans = KMeans(n_clusters=num_clusters, max_iter=50)\n",
    "    kmeans.fit(df_cluster_sc)\n",
    "\n",
    "    cluster_labels = kmeans.labels_\n",
    "\n",
    "    # silhouette score\n",
    "    silhouette_avg = silhouette_score(df_cluster_sc, cluster_labels)\n",
    "    print(\"For n_clusters={0}, the silhouette score is {1}\".format(num_clusters, silhouette_avg))\n"
   ]
  },
  {
   "cell_type": "code",
   "execution_count": null,
   "metadata": {
    "colab": {
     "base_uri": "https://localhost:8080/",
     "height": 75
    },
    "id": "h6UJ3OjgDeKK",
    "outputId": "c7578792-43a1-418c-eafc-52260c4d2e97"
   },
   "outputs": [],
   "source": [
    "# final model with k=3\n",
    "kmeans = KMeans(n_clusters=3, max_iter=50)\n",
    "kmeans.fit(df_cluster_sc)"
   ]
  },
  {
   "cell_type": "code",
   "execution_count": null,
   "metadata": {
    "colab": {
     "base_uri": "https://localhost:8080/",
     "height": 206
    },
    "id": "EGJU7w5oDlrC",
    "outputId": "1f12ebc0-cfa7-4212-9246-619ff194733f"
   },
   "outputs": [],
   "source": [
    "# assign the label\n",
    "df_cluster['cluster_id'] = kmeans.labels_\n",
    "df_cluster.head()"
   ]
  },
  {
   "cell_type": "code",
   "execution_count": null,
   "metadata": {
    "colab": {
     "base_uri": "https://localhost:8080/",
     "height": 467
    },
    "id": "nsKGeFLjDu9Z",
    "outputId": "6fa5a309-66e6-4df3-fa79-1637702ed671"
   },
   "outputs": [],
   "source": [
    "# plot\n",
    "sns.boxplot(x='cluster_id', y='Total_cost', data=df_cluster,)"
   ]
  },
  {
   "cell_type": "code",
   "execution_count": null,
   "metadata": {
    "colab": {
     "base_uri": "https://localhost:8080/",
     "height": 467
    },
    "id": "b9RODB42D0J7",
    "outputId": "6782163d-193c-4156-e50c-31720d8dd535"
   },
   "outputs": [],
   "source": [
    "# plot\n",
    "sns.boxplot(x='cluster_id', y='InvoiceNo', data=df_cluster)"
   ]
  },
  {
   "cell_type": "code",
   "execution_count": null,
   "metadata": {
    "colab": {
     "base_uri": "https://localhost:8080/",
     "height": 467
    },
    "id": "tEphFXDYD7yC",
    "outputId": "46900e36-555c-439e-962d-b038773826b4"
   },
   "outputs": [],
   "source": [
    "\n",
    "# plot\n",
    "sns.boxplot(x='cluster_id', y='time_diff', data=df_cluster)"
   ]
  },
  {
   "cell_type": "code",
   "execution_count": null,
   "metadata": {
    "id": "P9LqMo3UECIS"
   },
   "outputs": [],
   "source": []
  },
  {
   "cell_type": "code",
   "execution_count": null,
   "metadata": {
    "id": "jDHEOTat3gNP"
   },
   "outputs": [],
   "source": []
  },
  {
   "cell_type": "code",
   "execution_count": null,
   "metadata": {
    "id": "eCUA-zu93gHI"
   },
   "outputs": [],
   "source": []
  }
 ],
 "metadata": {
  "accelerator": "GPU",
  "colab": {
   "gpuType": "T4",
   "provenance": [],
   "toc_visible": true
  },
  "kernelspec": {
   "display_name": "Python 3 (ipykernel)",
   "language": "python",
   "name": "python3"
  },
  "language_info": {
   "codemirror_mode": {
    "name": "ipython",
    "version": 3
   },
   "file_extension": ".py",
   "mimetype": "text/x-python",
   "name": "python",
   "nbconvert_exporter": "python",
   "pygments_lexer": "ipython3",
   "version": "3.11.4"
  }
 },
 "nbformat": 4,
 "nbformat_minor": 4
}
