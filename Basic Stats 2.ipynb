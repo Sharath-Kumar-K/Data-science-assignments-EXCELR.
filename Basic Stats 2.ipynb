{
 "cells": [
  {
   "cell_type": "code",
   "execution_count": 1,
   "id": "e615f832-1d35-4f5a-b78c-fa0ed2e56fb9",
   "metadata": {},
   "outputs": [],
   "source": [
    "import numpy as np\n",
    "from scipy import stats"
   ]
  },
  {
   "cell_type": "code",
   "execution_count": 2,
   "id": "45e8a4da-4bf3-4384-9b33-b9d65fa4bb64",
   "metadata": {},
   "outputs": [],
   "source": [
    "data = [1.13, 1.55, 1.43, 0.92, 1.25, 1.36, 1.32, 0.85, 1.07, 1.48, 1.20, 1.33, 1.18, 1.22, 1.29]"
   ]
  },
  {
   "cell_type": "markdown",
   "id": "52422d39-1b2a-475b-bb98-edafeed3b1f9",
   "metadata": {},
   "source": [
    "## A: Build 99% Confidence Interval Using Sample Standard Deviation"
   ]
  },
  {
   "cell_type": "code",
   "execution_count": 3,
   "id": "854ffe70-c04f-4d4e-85c4-7c269665611f",
   "metadata": {},
   "outputs": [],
   "source": [
    "n = len(data)"
   ]
  },
  {
   "cell_type": "code",
   "execution_count": 4,
   "id": "869a67ec-9014-4750-8fd5-27838da01cc9",
   "metadata": {},
   "outputs": [],
   "source": [
    "sample_mean = np.mean(data)"
   ]
  },
  {
   "cell_type": "code",
   "execution_count": 5,
   "id": "fcac74de-5c62-4ecc-a871-815ee1c75e89",
   "metadata": {},
   "outputs": [],
   "source": [
    "sample_std = np.std(data, ddof=1)"
   ]
  },
  {
   "cell_type": "code",
   "execution_count": 6,
   "id": "fc9b1af3-b100-457d-8b40-8a79e5500998",
   "metadata": {},
   "outputs": [],
   "source": [
    "t_value = stats.t.ppf(0.995, df=n-1)"
   ]
  },
  {
   "cell_type": "code",
   "execution_count": 7,
   "id": "eb1c7d89-3372-4250-a1f3-ec666415ee1c",
   "metadata": {},
   "outputs": [],
   "source": [
    "margin_of_error = t_value * (sample_std / np.sqrt(n))"
   ]
  },
  {
   "cell_type": "code",
   "execution_count": 8,
   "id": "7449f107-2f10-41fe-8c97-43fd2c591ec5",
   "metadata": {},
   "outputs": [],
   "source": [
    "ci_lower = sample_mean - margin_of_error\n",
    "ci_upper = sample_mean + margin_of_error"
   ]
  },
  {
   "cell_type": "code",
   "execution_count": 9,
   "id": "7aa40ba7-1bf6-482e-b444-3c58a6de8449",
   "metadata": {},
   "outputs": [
    {
     "name": "stdout",
     "output_type": "stream",
     "text": [
      "Task a: Confidence Interval Using Sample Standard Deviation\n",
      "Sample Mean: 1.239\n",
      "Sample Standard Deviation: 0.193\n",
      "T-value: 2.977\n",
      "Margin of Error: 0.148\n",
      "99% Confidence Interval: (1.090, 1.387)\n",
      "\n"
     ]
    }
   ],
   "source": [
    "print(\"Task a: Confidence Interval Using Sample Standard Deviation\")\n",
    "print(f\"Sample Mean: {sample_mean:.3f}\")\n",
    "print(f\"Sample Standard Deviation: {sample_std:.3f}\")\n",
    "print(f\"T-value: {t_value:.3f}\")\n",
    "print(f\"Margin of Error: {margin_of_error:.3f}\")\n",
    "print(f\"99% Confidence Interval: ({ci_lower:.3f}, {ci_upper:.3f})\")\n",
    "print()"
   ]
  },
  {
   "cell_type": "markdown",
   "id": "2a476768-c364-42e8-8268-bbbacd36078b",
   "metadata": {},
   "source": [
    "## B: Build 99% Confidence Interval Using Known Population Standard Deviation"
   ]
  },
  {
   "cell_type": "code",
   "execution_count": 10,
   "id": "b6c18be3-eab6-4873-8457-0e4615dab772",
   "metadata": {},
   "outputs": [],
   "source": [
    "population_std = 0.2"
   ]
  },
  {
   "cell_type": "code",
   "execution_count": 11,
   "id": "dbf1fe9c-e987-4a21-bc92-593f43b7b044",
   "metadata": {},
   "outputs": [],
   "source": [
    "z_value = stats.norm.ppf(0.995)\n"
   ]
  },
  {
   "cell_type": "code",
   "execution_count": 12,
   "id": "54e3b447-e8c5-44c6-8e1b-502451421f8e",
   "metadata": {},
   "outputs": [],
   "source": [
    "margin_of_error_known_pop = z_value * (population_std / np.sqrt(n))"
   ]
  },
  {
   "cell_type": "code",
   "execution_count": 13,
   "id": "a27462d3-abe2-4612-a5bf-5799964f859c",
   "metadata": {},
   "outputs": [],
   "source": [
    "ci_lower_known_pop = sample_mean - margin_of_error_known_pop\n",
    "ci_upper_known_pop = sample_mean + margin_of_error_known_pop"
   ]
  },
  {
   "cell_type": "code",
   "execution_count": 14,
   "id": "e9fb8b60-5661-443e-b53a-e6f8dfb76728",
   "metadata": {},
   "outputs": [
    {
     "name": "stdout",
     "output_type": "stream",
     "text": [
      "Task b: Confidence Interval Using Known Population Standard Deviation\n",
      "Z-value: 2.576\n",
      "Margin of Error (Known Population SD): 0.133\n",
      "99% Confidence Interval: (1.106, 1.372)\n"
     ]
    }
   ],
   "source": [
    "print(\"Task b: Confidence Interval Using Known Population Standard Deviation\")\n",
    "print(f\"Z-value: {z_value:.3f}\")\n",
    "print(f\"Margin of Error (Known Population SD): {margin_of_error_known_pop:.3f}\")\n",
    "print(f\"99% Confidence Interval: ({ci_lower_known_pop:.3f}, {ci_upper_known_pop:.3f})\")"
   ]
  }
 ],
 "metadata": {
  "kernelspec": {
   "display_name": "Python 3 (ipykernel)",
   "language": "python",
   "name": "python3"
  },
  "language_info": {
   "codemirror_mode": {
    "name": "ipython",
    "version": 3
   },
   "file_extension": ".py",
   "mimetype": "text/x-python",
   "name": "python",
   "nbconvert_exporter": "python",
   "pygments_lexer": "ipython3",
   "version": "3.11.4"
  }
 },
 "nbformat": 4,
 "nbformat_minor": 5
}
